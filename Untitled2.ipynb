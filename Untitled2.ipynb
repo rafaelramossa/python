{
 "cells": [
  {
   "cell_type": "code",
   "execution_count": 18,
   "metadata": {},
   "outputs": [],
   "source": [
    "import numpy as np"
   ]
  },
  {
   "cell_type": "code",
   "execution_count": 111,
   "metadata": {},
   "outputs": [],
   "source": [
    "matriz=[\n",
    "    [1,2,3,4,5,6,7,8,9,10,11,12,78],\n",
    "    [1,2,3,4,5,6,7,8,9,10,11,12,78],\n",
    "    [1,2,3,4,5,6,7,8,9,10,11,12,78],\n",
    "    [1,2,3,4,5,6,7,8,9,10,11,12,78],\n",
    "    [1,2,3,4,5,6,7,8,9,10,11,12,78],\n",
    "    [1,2,3,4,5,6,7,8,9,10,11,12,78],\n",
    "    [1,2,3,4,5,6,7,8,9,10,11,12,78],\n",
    "    [1,2,3,4,5,6,7,8,9,10,11,12,78],\n",
    "    [1,2,3,4,5,6,7,8,9,10,11,12,78],\n",
    "    [1,2,3,4,5,6,7,8,9,10,11,12,78],\n",
    "    [1,2,3,4,5,6,7,8,9,10,11,12,78],\n",
    "    [1,2,3,4,5,6,7,8,9,10,11,12,78]\n",
    "]"
   ]
  },
  {
   "cell_type": "code",
   "execution_count": 171,
   "metadata": {},
   "outputs": [],
   "source": [
    "m2 = np.matrix(matriz2)"
   ]
  },
  {
   "cell_type": "code",
   "execution_count": 170,
   "metadata": {},
   "outputs": [],
   "source": [
    "matriz2=[\n",
    "    [11, 12,78,1,2,3,4,5,6,7,8,9,10],\n",
    "    [10,11,12,78,1,2,3,4,5,6,7,8,9],\n",
    "    [9,10,11,12,78,1,2,3,4,5,6,7,8],\n",
    "    [8,9,10,11,12,78,1,2,3,4,5,6,7],\n",
    "    [7,8,9,10,11,12,78,1,2,3,4,5,6],\n",
    "    [6,7,8,9,10,11,12,78,1,2,3,4,5],\n",
    "    [5,6,7,8,9,10,11,12,78,1,2,3,4],\n",
    "    [4,5,6,7,8,9,10,11,12,78,1,2,3],\n",
    "    [3,4,5,6,7,8,9,10,11,12,78,1,2],\n",
    "    [2,3,4,5,6,7,8,9,10,11,12,78,1],\n",
    "    [1, 2,3,4,5,6,7,8,9,10,11,12,78],\n",
    "    [78,1,2,3,4,5,6,7,8,9,10,11,12]\n",
    "]"
   ]
  },
  {
   "cell_type": "code",
   "execution_count": 117,
   "metadata": {},
   "outputs": [
    {
     "name": "stdout",
     "output_type": "stream",
     "text": [
      "(12, 13)\n"
     ]
    }
   ],
   "source": [
    "print(m1.shape)\n"
   ]
  },
  {
   "cell_type": "code",
   "execution_count": 139,
   "metadata": {},
   "outputs": [
    {
     "data": {
      "text/plain": [
       "11"
      ]
     },
     "execution_count": 139,
     "metadata": {},
     "output_type": "execute_result"
    }
   ],
   "source": [
    "tam = len(m2)"
   ]
  },
  {
   "cell_type": "code",
   "execution_count": 140,
   "metadata": {},
   "outputs": [
    {
     "data": {
      "text/plain": [
       "10"
      ]
     },
     "execution_count": 140,
     "metadata": {},
     "output_type": "execute_result"
    }
   ],
   "source": [
    "qtd = list(np.diag(m2)).count(m2[0,0])"
   ]
  },
  {
   "cell_type": "code",
   "execution_count": 145,
   "metadata": {},
   "outputs": [
    {
     "name": "stdout",
     "output_type": "stream",
     "text": [
      "É escadinha\n"
     ]
    }
   ],
   "source": [
    "if qtd <2:\n",
    "    print('Não é escadinha')\n",
    "else:\n",
    "    print('É escadinha')"
   ]
  },
  {
   "cell_type": "code",
   "execution_count": 215,
   "metadata": {},
   "outputs": [
    {
     "name": "stdout",
     "output_type": "stream",
     "text": [
      "2\n"
     ]
    }
   ],
   "source": [
    "#indice na linha\n",
    "print(m2[0].argmax())"
   ]
  },
  {
   "cell_type": "code",
   "execution_count": 148,
   "metadata": {},
   "outputs": [
    {
     "name": "stdout",
     "output_type": "stream",
     "text": [
      "78\n"
     ]
    }
   ],
   "source": [
    "#maior valor\n",
    "print(m1[0].max())"
   ]
  },
  {
   "cell_type": "code",
   "execution_count": 212,
   "metadata": {},
   "outputs": [
    {
     "data": {
      "text/plain": [
       "78"
      ]
     },
     "execution_count": 212,
     "metadata": {},
     "output_type": "execute_result"
    }
   ],
   "source": [
    "m2[0].max()"
   ]
  },
  {
   "cell_type": "code",
   "execution_count": 181,
   "metadata": {},
   "outputs": [
    {
     "data": {
      "text/plain": [
       "array([[ 0,  2],\n",
       "       [ 1,  3],\n",
       "       [ 2,  4],\n",
       "       [ 3,  5],\n",
       "       [ 4,  6],\n",
       "       [ 5,  7],\n",
       "       [ 6,  8],\n",
       "       [ 7,  9],\n",
       "       [ 8, 10],\n",
       "       [ 9, 11],\n",
       "       [10, 12],\n",
       "       [11,  0]])"
      ]
     },
     "execution_count": 181,
     "metadata": {},
     "output_type": "execute_result"
    }
   ],
   "source": [
    "np.argwhere(m2 ==78)"
   ]
  },
  {
   "cell_type": "code",
   "execution_count": 173,
   "metadata": {},
   "outputs": [
    {
     "name": "stdout",
     "output_type": "stream",
     "text": [
      "[[ 1  2  3  4  5  6  7  8  9 10 11 12 78]]\n"
     ]
    }
   ],
   "source": [
    "print(m2[10])"
   ]
  },
  {
   "cell_type": "code",
   "execution_count": 180,
   "metadata": {},
   "outputs": [
    {
     "name": "stdout",
     "output_type": "stream",
     "text": [
      "[ 0  1  2  3  4  5  6  7  8  9 10 11]\n"
     ]
    }
   ],
   "source": [
    "print(a[:,0])"
   ]
  },
  {
   "cell_type": "code",
   "execution_count": 186,
   "metadata": {},
   "outputs": [
    {
     "name": "stdout",
     "output_type": "stream",
     "text": [
      "[ 2  3  4  5  6  7  8  9 10 11 12  0]\n"
     ]
    }
   ],
   "source": [
    "print(a[:,1])"
   ]
  },
  {
   "cell_type": "code",
   "execution_count": 209,
   "metadata": {},
   "outputs": [
    {
     "data": {
      "text/plain": [
       "array([[10]])"
      ]
     },
     "execution_count": 209,
     "metadata": {},
     "output_type": "execute_result"
    }
   ],
   "source": [
    "np.argwhere(a[:,1] ==12)"
   ]
  },
  {
   "cell_type": "code",
   "execution_count": 196,
   "metadata": {},
   "outputs": [
    {
     "name": "stdout",
     "output_type": "stream",
     "text": [
      "[[ 0  2]\n",
      " [ 1  3]\n",
      " [ 2  4]\n",
      " [ 3  5]\n",
      " [ 4  6]\n",
      " [ 5  7]\n",
      " [ 6  8]\n",
      " [ 7  9]\n",
      " [ 8 10]\n",
      " [ 9 11]\n",
      " [10 12]\n",
      " [11  0]]\n"
     ]
    }
   ],
   "source": [
    "print(a)"
   ]
  },
  {
   "cell_type": "code",
   "execution_count": 210,
   "metadata": {},
   "outputs": [
    {
     "name": "stdout",
     "output_type": "stream",
     "text": [
      "(array([10]),)\n"
     ]
    }
   ],
   "source": [
    "print(b)"
   ]
  },
  {
   "cell_type": "code",
   "execution_count": 211,
   "metadata": {},
   "outputs": [
    {
     "name": "stdout",
     "output_type": "stream",
     "text": [
      "[[ 1  2  3  4  5  6  7  8  9 10 11 12 78]]\n"
     ]
    }
   ],
   "source": [
    "print(m2[(b)])"
   ]
  },
  {
   "cell_type": "code",
   "execution_count": 213,
   "metadata": {},
   "outputs": [
    {
     "data": {
      "text/plain": [
       "78"
      ]
     },
     "execution_count": 213,
     "metadata": {},
     "output_type": "execute_result"
    }
   ],
   "source": [
    "m2[0].max()"
   ]
  },
  {
   "cell_type": "code",
   "execution_count": 214,
   "metadata": {},
   "outputs": [
    {
     "data": {
      "text/plain": [
       "2"
      ]
     },
     "execution_count": 214,
     "metadata": {},
     "output_type": "execute_result"
    }
   ],
   "source": [
    "m2[0].argmax()"
   ]
  },
  {
   "cell_type": "code",
   "execution_count": null,
   "metadata": {},
   "outputs": [],
   "source": []
  }
 ],
 "metadata": {
  "kernelspec": {
   "display_name": "Python 3",
   "language": "python",
   "name": "python3"
  },
  "language_info": {
   "codemirror_mode": {
    "name": "ipython",
    "version": 3
   },
   "file_extension": ".py",
   "mimetype": "text/x-python",
   "name": "python",
   "nbconvert_exporter": "python",
   "pygments_lexer": "ipython3",
   "version": "3.7.3"
  }
 },
 "nbformat": 4,
 "nbformat_minor": 2
}
