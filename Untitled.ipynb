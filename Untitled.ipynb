{
 "cells": [
  {
   "cell_type": "code",
   "execution_count": 1,
   "metadata": {},
   "outputs": [],
   "source": [
    "import numpy as np\n",
    "import pandas as pd\n",
    "import matplotlib.pyplot as plt\n",
    "import matplotlib as mpl\n",
    "%matplotlib inline"
   ]
  },
  {
   "cell_type": "code",
   "execution_count": 2,
   "metadata": {},
   "outputs": [],
   "source": [
    "dados = [(1,90489),\n",
    "(2,90193),\n",
    "(3,89725),\n",
    "(4,89673),\n",
    "(5,89609),\n",
    "(6,89482),\n",
    "(7,89561),\n",
    "(8,89820),\n",
    "(9,89190),\n",
    "(10,89210),\n",
    "(11,88920),\n",
    "(12,87968),\n",
    "(13,87729),\n",
    "(14,87554),\n",
    "(15,88351),\n",
    "(16,86664),\n",
    "(17,86219),\n",
    "(18,86601),\n",
    "(19,86939),\n",
    "(20,84287),\n",
    "(21,85325),\n",
    "(22,85651),\n",
    "(23,83861),\n",
    "(24,83341),\n",
    "(25,83907),\n",
    "(26,82800),\n",
    "(27,82832),\n",
    "(28,83110),\n",
    "(29,82210),\n",
    "(30,82036),\n",
    "(31,82373),\n",
    "(32,82059),\n",
    "(33,82027),\n",
    "(34,81714),\n",
    "(35,81501),\n",
    "(36,81030)]"
   ]
  },
  {
   "cell_type": "code",
   "execution_count": 3,
   "metadata": {},
   "outputs": [
    {
     "name": "stdout",
     "output_type": "stream",
     "text": [
      "[(1, 90489), (2, 90193), (3, 89725), (4, 89673), (5, 89609), (6, 89482), (7, 89561), (8, 89820), (9, 89190), (10, 89210), (11, 88920), (12, 87968), (13, 87729), (14, 87554), (15, 88351), (16, 86664), (17, 86219), (18, 86601), (19, 86939), (20, 84287), (21, 85325), (22, 85651), (23, 83861), (24, 83341), (25, 83907), (26, 82800), (27, 82832), (28, 83110), (29, 82210), (30, 82036), (31, 82373), (32, 82059), (33, 82027), (34, 81714), (35, 81501), (36, 81030)]\n"
     ]
    }
   ],
   "source": [
    "print(dados)"
   ]
  },
  {
   "cell_type": "code",
   "execution_count": 4,
   "metadata": {},
   "outputs": [],
   "source": [
    "dataset = pd.DataFrame(dados, columns =['Identificador','Valor']) "
   ]
  },
  {
   "cell_type": "code",
   "execution_count": 5,
   "metadata": {},
   "outputs": [
    {
     "data": {
      "text/html": [
       "<div>\n",
       "<style scoped>\n",
       "    .dataframe tbody tr th:only-of-type {\n",
       "        vertical-align: middle;\n",
       "    }\n",
       "\n",
       "    .dataframe tbody tr th {\n",
       "        vertical-align: top;\n",
       "    }\n",
       "\n",
       "    .dataframe thead th {\n",
       "        text-align: right;\n",
       "    }\n",
       "</style>\n",
       "<table border=\"1\" class=\"dataframe\">\n",
       "  <thead>\n",
       "    <tr style=\"text-align: right;\">\n",
       "      <th></th>\n",
       "      <th>Identificador</th>\n",
       "      <th>Valor</th>\n",
       "    </tr>\n",
       "  </thead>\n",
       "  <tbody>\n",
       "    <tr>\n",
       "      <th>0</th>\n",
       "      <td>1</td>\n",
       "      <td>90489</td>\n",
       "    </tr>\n",
       "    <tr>\n",
       "      <th>1</th>\n",
       "      <td>2</td>\n",
       "      <td>90193</td>\n",
       "    </tr>\n",
       "    <tr>\n",
       "      <th>2</th>\n",
       "      <td>3</td>\n",
       "      <td>89725</td>\n",
       "    </tr>\n",
       "    <tr>\n",
       "      <th>3</th>\n",
       "      <td>4</td>\n",
       "      <td>89673</td>\n",
       "    </tr>\n",
       "    <tr>\n",
       "      <th>4</th>\n",
       "      <td>5</td>\n",
       "      <td>89609</td>\n",
       "    </tr>\n",
       "    <tr>\n",
       "      <th>5</th>\n",
       "      <td>6</td>\n",
       "      <td>89482</td>\n",
       "    </tr>\n",
       "    <tr>\n",
       "      <th>6</th>\n",
       "      <td>7</td>\n",
       "      <td>89561</td>\n",
       "    </tr>\n",
       "    <tr>\n",
       "      <th>7</th>\n",
       "      <td>8</td>\n",
       "      <td>89820</td>\n",
       "    </tr>\n",
       "    <tr>\n",
       "      <th>8</th>\n",
       "      <td>9</td>\n",
       "      <td>89190</td>\n",
       "    </tr>\n",
       "    <tr>\n",
       "      <th>9</th>\n",
       "      <td>10</td>\n",
       "      <td>89210</td>\n",
       "    </tr>\n",
       "  </tbody>\n",
       "</table>\n",
       "</div>"
      ],
      "text/plain": [
       "   Identificador  Valor\n",
       "0              1  90489\n",
       "1              2  90193\n",
       "2              3  89725\n",
       "3              4  89673\n",
       "4              5  89609\n",
       "5              6  89482\n",
       "6              7  89561\n",
       "7              8  89820\n",
       "8              9  89190\n",
       "9             10  89210"
      ]
     },
     "execution_count": 5,
     "metadata": {},
     "output_type": "execute_result"
    }
   ],
   "source": [
    "dataset.head(10)"
   ]
  },
  {
   "cell_type": "code",
   "execution_count": 6,
   "metadata": {},
   "outputs": [],
   "source": [
    "media = dataset['Valor'].mean()"
   ]
  },
  {
   "cell_type": "code",
   "execution_count": 7,
   "metadata": {},
   "outputs": [
    {
     "data": {
      "text/plain": [
       "85943.36111111111"
      ]
     },
     "execution_count": 7,
     "metadata": {},
     "output_type": "execute_result"
    }
   ],
   "source": [
    "media"
   ]
  },
  {
   "cell_type": "code",
   "execution_count": 8,
   "metadata": {},
   "outputs": [
    {
     "name": "stdout",
     "output_type": "stream",
     "text": [
      "Soma dos Quadrados do Erros (SSE): 348975526\n"
     ]
    }
   ],
   "source": [
    "# Calculando o SSE\n",
    "squared_erros = pd.Series(media - dataset['Valor'])**2\n",
    "SSE = np.sum(squared_erros)\n",
    "print ('Soma dos Quadrados do Erros (SSE): %01.f' % SSE)"
   ]
  },
  {
   "cell_type": "code",
   "execution_count": 9,
   "metadata": {},
   "outputs": [
    {
     "data": {
      "image/png": "[encoded data removed]",
      "text/plain": [
       "<Figure size 432x288 with 1 Axes>"
      ]
     },
     "metadata": {
      "needs_background": "light"
     },
     "output_type": "display_data"
    }
   ],
   "source": [
    "# Histograma dos erros\n",
    "hist_plot = squared_erros.plot('hist')"
   ]
  },
  {
   "cell_type": "code",
   "execution_count": 10,
   "metadata": {},
   "outputs": [],
   "source": [
    "# Função para calcular o desvio padrão\n",
    "def calc_desvio_padrao(variable, bias =0):\n",
    "    observations = float(len(variable))\n",
    "    return np.sqrt(np.sum((variable - np.mean(variable))**2) / (obsservations - min(bias,1)))"
   ]
  },
  {
   "cell_type": "code",
   "execution_count": 11,
   "metadata": {},
   "outputs": [],
   "source": [
    "# Definindo o range dos valores de x e y\n",
    "x_range = [dataset['Identificador'].min(),dataset['Identificador'].max()]\n",
    "y_range = [dataset['Valor'].min(),dataset['Valor'].max()]"
   ]
  },
  {
   "cell_type": "code",
   "execution_count": 12,
   "metadata": {},
   "outputs": [
    {
     "data": {
      "image/png": "[encoded data removed]",
      "text/plain": [
       "<Figure size 432x288 with 1 Axes>"
      ]
     },
     "metadata": {
      "needs_background": "light"
     },
     "output_type": "display_data"
    }
   ],
   "source": [
    "#Plot dos valor de x e y com a media\n",
    "scatter_plot = dataset.plot(kind = 'scatter', x = 'Identificador', y = 'Valor', xlim= x_range, ylim=y_range )\n",
    "\n",
    "#Calculo da media\n",
    "meanY = scatter_plot.plot(x_range, [dataset['Valor'].mean(), dataset['Valor'].mean()], '--', color = 'red', linewidth =1)\n",
    "meanx = scatter_plot.plot([dataset['Identificador'].mean(), dataset['Identificador'].mean()], y_range, '--', color = 'red', linewidth =1)"
   ]
  },
  {
   "cell_type": "markdown",
   "metadata": {},
   "source": [
    "## Scikit-Learn"
   ]
  },
  {
   "cell_type": "code",
   "execution_count": 13,
   "metadata": {},
   "outputs": [],
   "source": [
    "from sklearn import linear_model"
   ]
  },
  {
   "cell_type": "code",
   "execution_count": 14,
   "metadata": {},
   "outputs": [],
   "source": [
    "modelo = linear_model.LinearRegression(normalize= False, fit_intercept = True)"
   ]
  },
  {
   "cell_type": "code",
   "execution_count": 15,
   "metadata": {},
   "outputs": [],
   "source": [
    "import numpy as np\n",
    "from sklearn.linear_model import LinearRegression"
   ]
  },
  {
   "cell_type": "code",
   "execution_count": 16,
   "metadata": {},
   "outputs": [],
   "source": [
    "#Define os valores de x e y\n",
    "num_observ = len(dataset)\n",
    "x = dataset['Identificador'].values.reshape((-1, 1))\n",
    "y = dataset['Valor'].values"
   ]
  },
  {
   "cell_type": "code",
   "execution_count": 17,
   "metadata": {},
   "outputs": [],
   "source": [
    "#Definindo o range de data\n",
    "Data=[]\n",
    "Mes = [1,2,3,4,5,6,7,8,9,10,11,12]\n",
    "Ano = [2016,2017,2018,2019]\n",
    "for a in Ano:\n",
    "    for b in Mes:\n",
    "        Data.append(\"%s-%s\" %(a,b))"
   ]
  },
  {
   "cell_type": "code",
   "execution_count": 18,
   "metadata": {},
   "outputs": [],
   "source": [
    "model = LinearRegression()"
   ]
  },
  {
   "cell_type": "code",
   "execution_count": 19,
   "metadata": {},
   "outputs": [
    {
     "data": {
      "text/plain": [
       "LinearRegression(copy_X=True, fit_intercept=True, n_jobs=None,\n",
       "         normalize=False)"
      ]
     },
     "execution_count": 19,
     "metadata": {},
     "output_type": "execute_result"
    }
   ],
   "source": [
    "# Aplica o modelo - fit()\n",
    "model.fit(x,y)"
   ]
  },
  {
   "cell_type": "code",
   "execution_count": 20,
   "metadata": {},
   "outputs": [],
   "source": [
    "model = LinearRegression().fit(x,y)"
   ]
  },
  {
   "cell_type": "code",
   "execution_count": 21,
   "metadata": {},
   "outputs": [
    {
     "name": "stdout",
     "output_type": "stream",
     "text": [
      "coefficient of determination (taxa de acerto): 0.9615427526327751\n"
     ]
    }
   ],
   "source": [
    "r_sq = model.score(x, y)\n",
    "print('coefficient of determination (taxa de acerto):', r_sq)"
   ]
  },
  {
   "cell_type": "code",
   "execution_count": 22,
   "metadata": {},
   "outputs": [
    {
     "name": "stdout",
     "output_type": "stream",
     "text": [
      "interseção: 91380.34444444445\n",
      "tempo(declive): [-293.89099099]\n"
     ]
    }
   ],
   "source": [
    "# Imprime os coeficentes\n",
    "print ('interseção:', model.intercept_)\n",
    "print ('tempo(declive):', model.coef_)"
   ]
  },
  {
   "cell_type": "code",
   "execution_count": 23,
   "metadata": {},
   "outputs": [],
   "source": [
    "y_pred = model.predict(x)"
   ]
  },
  {
   "cell_type": "code",
   "execution_count": 24,
   "metadata": {
    "scrolled": true
   },
   "outputs": [
    {
     "name": "stdout",
     "output_type": "stream",
     "text": [
      "predicted response:\n",
      "[91086.45345345 90792.56246246 90498.67147147 90204.78048048\n",
      " 89910.88948949 89616.9984985  89323.10750751 89029.21651652\n",
      " 88735.32552553 88441.43453453 88147.54354354 87853.65255255\n",
      " 87559.76156156 87265.87057057 86971.97957958 86678.08858859\n",
      " 86384.1975976  86090.30660661 85796.41561562 85502.52462462\n",
      " 85208.63363363 84914.74264264 84620.85165165 84326.96066066\n",
      " 84033.06966967 83739.17867868 83445.28768769 83151.3966967\n",
      " 82857.50570571 82563.61471471 82269.72372372 81975.83273273\n",
      " 81681.94174174 81388.05075075 81094.15975976 80800.26876877]\n"
     ]
    }
   ],
   "source": [
    "print('predicted response:', y_pred, sep='\\n')"
   ]
  },
  {
   "cell_type": "markdown",
   "metadata": {},
   "source": [
    "## Outra forma"
   ]
  },
  {
   "cell_type": "code",
   "execution_count": 25,
   "metadata": {},
   "outputs": [],
   "source": [
    "y_pred = model.intercept_ + model.coef_ * x"
   ]
  },
  {
   "cell_type": "code",
   "execution_count": 26,
   "metadata": {
    "scrolled": true
   },
   "outputs": [
    {
     "name": "stdout",
     "output_type": "stream",
     "text": [
      "predicted response:\n",
      "[[91086.45345345]\n",
      " [90792.56246246]\n",
      " [90498.67147147]\n",
      " [90204.78048048]\n",
      " [89910.88948949]\n",
      " [89616.9984985 ]\n",
      " [89323.10750751]\n",
      " [89029.21651652]\n",
      " [88735.32552553]\n",
      " [88441.43453453]\n",
      " [88147.54354354]\n",
      " [87853.65255255]\n",
      " [87559.76156156]\n",
      " [87265.87057057]\n",
      " [86971.97957958]\n",
      " [86678.08858859]\n",
      " [86384.1975976 ]\n",
      " [86090.30660661]\n",
      " [85796.41561562]\n",
      " [85502.52462462]\n",
      " [85208.63363363]\n",
      " [84914.74264264]\n",
      " [84620.85165165]\n",
      " [84326.96066066]\n",
      " [84033.06966967]\n",
      " [83739.17867868]\n",
      " [83445.28768769]\n",
      " [83151.3966967 ]\n",
      " [82857.50570571]\n",
      " [82563.61471471]\n",
      " [82269.72372372]\n",
      " [81975.83273273]\n",
      " [81681.94174174]\n",
      " [81388.05075075]\n",
      " [81094.15975976]\n",
      " [80800.26876877]]\n"
     ]
    }
   ],
   "source": [
    "print('predicted response:', y_pred, sep='\\n')"
   ]
  },
  {
   "cell_type": "markdown",
   "metadata": {},
   "source": [
    "## Prevendo datas futuras"
   ]
  },
  {
   "cell_type": "code",
   "execution_count": 36,
   "metadata": {},
   "outputs": [],
   "source": [
    "x_new = np.arange(len(Data)).reshape((-1, 1))"
   ]
  },
  {
   "cell_type": "code",
   "execution_count": 38,
   "metadata": {},
   "outputs": [],
   "source": [
    "y_new = model.predict(x_new)"
   ]
  },
  {
   "cell_type": "code",
   "execution_count": 39,
   "metadata": {},
   "outputs": [
    {
     "data": {
      "image/png": "[encoded data removed]",
      "text/plain": [
       "<Figure size 432x288 with 1 Axes>"
      ]
     },
     "metadata": {
      "needs_background": "light"
     },
     "output_type": "display_data"
    }
   ],
   "source": [
    "plt.scatter(x , y )\n",
    "plt.plot(x_new, y_new, color='red') \n",
    "plt.show()  "
   ]
  },
  {
   "cell_type": "code",
   "execution_count": 46,
   "metadata": {},
   "outputs": [],
   "source": [
    "dados2 = list(zip(Data,y_new.astype(int)))"
   ]
  },
  {
   "cell_type": "code",
   "execution_count": 48,
   "metadata": {},
   "outputs": [],
   "source": [
    "dataset2 = pd.DataFrame(dados2, columns =['Data','ValorPrevisto']) \n",
    "    "
   ]
  },
  {
   "cell_type": "code",
   "execution_count": 51,
   "metadata": {},
   "outputs": [
    {
     "data": {
      "text/html": [
       "<div>\n",
       "<style scoped>\n",
       "    .dataframe tbody tr th:only-of-type {\n",
       "        vertical-align: middle;\n",
       "    }\n",
       "\n",
       "    .dataframe tbody tr th {\n",
       "        vertical-align: top;\n",
       "    }\n",
       "\n",
       "    .dataframe thead th {\n",
       "        text-align: right;\n",
       "    }\n",
       "</style>\n",
       "<table border=\"1\" class=\"dataframe\">\n",
       "  <thead>\n",
       "    <tr style=\"text-align: right;\">\n",
       "      <th></th>\n",
       "      <th>Data</th>\n",
       "      <th>ValorPrevisto</th>\n",
       "    </tr>\n",
       "  </thead>\n",
       "  <tbody>\n",
       "    <tr>\n",
       "      <th>0</th>\n",
       "      <td>2016-1</td>\n",
       "      <td>91380</td>\n",
       "    </tr>\n",
       "    <tr>\n",
       "      <th>1</th>\n",
       "      <td>2016-2</td>\n",
       "      <td>91086</td>\n",
       "    </tr>\n",
       "    <tr>\n",
       "      <th>2</th>\n",
       "      <td>2016-3</td>\n",
       "      <td>90792</td>\n",
       "    </tr>\n",
       "    <tr>\n",
       "      <th>3</th>\n",
       "      <td>2016-4</td>\n",
       "      <td>90498</td>\n",
       "    </tr>\n",
       "    <tr>\n",
       "      <th>4</th>\n",
       "      <td>2016-5</td>\n",
       "      <td>90204</td>\n",
       "    </tr>\n",
       "    <tr>\n",
       "      <th>5</th>\n",
       "      <td>2016-6</td>\n",
       "      <td>89910</td>\n",
       "    </tr>\n",
       "    <tr>\n",
       "      <th>6</th>\n",
       "      <td>2016-7</td>\n",
       "      <td>89616</td>\n",
       "    </tr>\n",
       "    <tr>\n",
       "      <th>7</th>\n",
       "      <td>2016-8</td>\n",
       "      <td>89323</td>\n",
       "    </tr>\n",
       "    <tr>\n",
       "      <th>8</th>\n",
       "      <td>2016-9</td>\n",
       "      <td>89029</td>\n",
       "    </tr>\n",
       "    <tr>\n",
       "      <th>9</th>\n",
       "      <td>2016-10</td>\n",
       "      <td>88735</td>\n",
       "    </tr>\n",
       "    <tr>\n",
       "      <th>10</th>\n",
       "      <td>2016-11</td>\n",
       "      <td>88441</td>\n",
       "    </tr>\n",
       "    <tr>\n",
       "      <th>11</th>\n",
       "      <td>2016-12</td>\n",
       "      <td>88147</td>\n",
       "    </tr>\n",
       "    <tr>\n",
       "      <th>12</th>\n",
       "      <td>2017-1</td>\n",
       "      <td>87853</td>\n",
       "    </tr>\n",
       "    <tr>\n",
       "      <th>13</th>\n",
       "      <td>2017-2</td>\n",
       "      <td>87559</td>\n",
       "    </tr>\n",
       "    <tr>\n",
       "      <th>14</th>\n",
       "      <td>2017-3</td>\n",
       "      <td>87265</td>\n",
       "    </tr>\n",
       "    <tr>\n",
       "      <th>15</th>\n",
       "      <td>2017-4</td>\n",
       "      <td>86971</td>\n",
       "    </tr>\n",
       "    <tr>\n",
       "      <th>16</th>\n",
       "      <td>2017-5</td>\n",
       "      <td>86678</td>\n",
       "    </tr>\n",
       "    <tr>\n",
       "      <th>17</th>\n",
       "      <td>2017-6</td>\n",
       "      <td>86384</td>\n",
       "    </tr>\n",
       "    <tr>\n",
       "      <th>18</th>\n",
       "      <td>2017-7</td>\n",
       "      <td>86090</td>\n",
       "    </tr>\n",
       "    <tr>\n",
       "      <th>19</th>\n",
       "      <td>2017-8</td>\n",
       "      <td>85796</td>\n",
       "    </tr>\n",
       "    <tr>\n",
       "      <th>20</th>\n",
       "      <td>2017-9</td>\n",
       "      <td>85502</td>\n",
       "    </tr>\n",
       "    <tr>\n",
       "      <th>21</th>\n",
       "      <td>2017-10</td>\n",
       "      <td>85208</td>\n",
       "    </tr>\n",
       "    <tr>\n",
       "      <th>22</th>\n",
       "      <td>2017-11</td>\n",
       "      <td>84914</td>\n",
       "    </tr>\n",
       "    <tr>\n",
       "      <th>23</th>\n",
       "      <td>2017-12</td>\n",
       "      <td>84620</td>\n",
       "    </tr>\n",
       "    <tr>\n",
       "      <th>24</th>\n",
       "      <td>2018-1</td>\n",
       "      <td>84326</td>\n",
       "    </tr>\n",
       "    <tr>\n",
       "      <th>25</th>\n",
       "      <td>2018-2</td>\n",
       "      <td>84033</td>\n",
       "    </tr>\n",
       "    <tr>\n",
       "      <th>26</th>\n",
       "      <td>2018-3</td>\n",
       "      <td>83739</td>\n",
       "    </tr>\n",
       "    <tr>\n",
       "      <th>27</th>\n",
       "      <td>2018-4</td>\n",
       "      <td>83445</td>\n",
       "    </tr>\n",
       "    <tr>\n",
       "      <th>28</th>\n",
       "      <td>2018-5</td>\n",
       "      <td>83151</td>\n",
       "    </tr>\n",
       "    <tr>\n",
       "      <th>29</th>\n",
       "      <td>2018-6</td>\n",
       "      <td>82857</td>\n",
       "    </tr>\n",
       "    <tr>\n",
       "      <th>30</th>\n",
       "      <td>2018-7</td>\n",
       "      <td>82563</td>\n",
       "    </tr>\n",
       "    <tr>\n",
       "      <th>31</th>\n",
       "      <td>2018-8</td>\n",
       "      <td>82269</td>\n",
       "    </tr>\n",
       "    <tr>\n",
       "      <th>32</th>\n",
       "      <td>2018-9</td>\n",
       "      <td>81975</td>\n",
       "    </tr>\n",
       "    <tr>\n",
       "      <th>33</th>\n",
       "      <td>2018-10</td>\n",
       "      <td>81681</td>\n",
       "    </tr>\n",
       "    <tr>\n",
       "      <th>34</th>\n",
       "      <td>2018-11</td>\n",
       "      <td>81388</td>\n",
       "    </tr>\n",
       "    <tr>\n",
       "      <th>35</th>\n",
       "      <td>2018-12</td>\n",
       "      <td>81094</td>\n",
       "    </tr>\n",
       "    <tr>\n",
       "      <th>36</th>\n",
       "      <td>2019-1</td>\n",
       "      <td>80800</td>\n",
       "    </tr>\n",
       "    <tr>\n",
       "      <th>37</th>\n",
       "      <td>2019-2</td>\n",
       "      <td>80506</td>\n",
       "    </tr>\n",
       "    <tr>\n",
       "      <th>38</th>\n",
       "      <td>2019-3</td>\n",
       "      <td>80212</td>\n",
       "    </tr>\n",
       "    <tr>\n",
       "      <th>39</th>\n",
       "      <td>2019-4</td>\n",
       "      <td>79918</td>\n",
       "    </tr>\n",
       "    <tr>\n",
       "      <th>40</th>\n",
       "      <td>2019-5</td>\n",
       "      <td>79624</td>\n",
       "    </tr>\n",
       "    <tr>\n",
       "      <th>41</th>\n",
       "      <td>2019-6</td>\n",
       "      <td>79330</td>\n",
       "    </tr>\n",
       "    <tr>\n",
       "      <th>42</th>\n",
       "      <td>2019-7</td>\n",
       "      <td>79036</td>\n",
       "    </tr>\n",
       "    <tr>\n",
       "      <th>43</th>\n",
       "      <td>2019-8</td>\n",
       "      <td>78743</td>\n",
       "    </tr>\n",
       "    <tr>\n",
       "      <th>44</th>\n",
       "      <td>2019-9</td>\n",
       "      <td>78449</td>\n",
       "    </tr>\n",
       "    <tr>\n",
       "      <th>45</th>\n",
       "      <td>2019-10</td>\n",
       "      <td>78155</td>\n",
       "    </tr>\n",
       "    <tr>\n",
       "      <th>46</th>\n",
       "      <td>2019-11</td>\n",
       "      <td>77861</td>\n",
       "    </tr>\n",
       "    <tr>\n",
       "      <th>47</th>\n",
       "      <td>2019-12</td>\n",
       "      <td>77567</td>\n",
       "    </tr>\n",
       "  </tbody>\n",
       "</table>\n",
       "</div>"
      ],
      "text/plain": [
       "       Data  ValorPrevisto\n",
       "0    2016-1          91380\n",
       "1    2016-2          91086\n",
       "2    2016-3          90792\n",
       "3    2016-4          90498\n",
       "4    2016-5          90204\n",
       "5    2016-6          89910\n",
       "6    2016-7          89616\n",
       "7    2016-8          89323\n",
       "8    2016-9          89029\n",
       "9   2016-10          88735\n",
       "10  2016-11          88441\n",
       "11  2016-12          88147\n",
       "12   2017-1          87853\n",
       "13   2017-2          87559\n",
       "14   2017-3          87265\n",
       "15   2017-4          86971\n",
       "16   2017-5          86678\n",
       "17   2017-6          86384\n",
       "18   2017-7          86090\n",
       "19   2017-8          85796\n",
       "20   2017-9          85502\n",
       "21  2017-10          85208\n",
       "22  2017-11          84914\n",
       "23  2017-12          84620\n",
       "24   2018-1          84326\n",
       "25   2018-2          84033\n",
       "26   2018-3          83739\n",
       "27   2018-4          83445\n",
       "28   2018-5          83151\n",
       "29   2018-6          82857\n",
       "30   2018-7          82563\n",
       "31   2018-8          82269\n",
       "32   2018-9          81975\n",
       "33  2018-10          81681\n",
       "34  2018-11          81388\n",
       "35  2018-12          81094\n",
       "36   2019-1          80800\n",
       "37   2019-2          80506\n",
       "38   2019-3          80212\n",
       "39   2019-4          79918\n",
       "40   2019-5          79624\n",
       "41   2019-6          79330\n",
       "42   2019-7          79036\n",
       "43   2019-8          78743\n",
       "44   2019-9          78449\n",
       "45  2019-10          78155\n",
       "46  2019-11          77861\n",
       "47  2019-12          77567"
      ]
     },
     "execution_count": 51,
     "metadata": {},
     "output_type": "execute_result"
    }
   ],
   "source": [
    "dataset2"
   ]
  },
  {
   "cell_type": "code",
   "execution_count": null,
   "metadata": {},
   "outputs": [],
   "source": []
  }
 ],
 "metadata": {
  "kernelspec": {
   "display_name": "Python 3",
   "language": "python",
   "name": "python3"
  },
  "language_info": {
   "codemirror_mode": {
    "name": "ipython",
    "version": 3
   },
   "file_extension": ".py",
   "mimetype": "text/x-python",
   "name": "python",
   "nbconvert_exporter": "python",
   "pygments_lexer": "ipython3",
   "version": "3.7.3"
  }
 },
 "nbformat": 4,
 "nbformat_minor": 2
}
