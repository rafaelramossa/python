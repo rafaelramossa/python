{
 "cells": [
  {
   "cell_type": "code",
   "execution_count": 1,
   "metadata": {},
   "outputs": [],
   "source": [
    "import numpy as np\n",
    "import pandas as pd\n",
    "import matplotlib.pyplot as plt\n",
    "import matplotlib as mpl\n",
    "%matplotlib inline"
   ]
  },
  {
   "cell_type": "code",
   "execution_count": 2,
   "metadata": {},
   "outputs": [],
   "source": [
    "import csv\n",
    "\n"
   ]
  },
  {
   "cell_type": "code",
   "execution_count": 23,
   "metadata": {},
   "outputs": [],
   "source": [
    "f = open('AASP.csv', 'r')\n",
    "data = f.read()"
   ]
  },
  {
   "cell_type": "code",
   "execution_count": 24,
   "metadata": {},
   "outputs": [],
   "source": [
    "rows = data.split('\\n')"
   ]
  },
  {
   "cell_type": "code",
   "execution_count": 25,
   "metadata": {},
   "outputs": [
    {
     "name": "stdout",
     "output_type": "stream",
     "text": [
      "[['']]\n"
     ]
    }
   ],
   "source": [
    "full_data = []\n",
    "for row in rows:\n",
    "    split_row = row.split(\",\")\n",
    "    full_data.append(split_row)\n",
    "print(full_data)"
   ]
  },
  {
   "cell_type": "code",
   "execution_count": 30,
   "metadata": {},
   "outputs": [],
   "source": [
    "dataset = pd.read_csv('AASP.csv', sep = ';', names = ['Data','Identificador','Valor'])\n"
   ]
  },
  {
   "cell_type": "code",
   "execution_count": 31,
   "metadata": {},
   "outputs": [
    {
     "data": {
      "text/html": [
       "<div>\n",
       "<style scoped>\n",
       "    .dataframe tbody tr th:only-of-type {\n",
       "        vertical-align: middle;\n",
       "    }\n",
       "\n",
       "    .dataframe tbody tr th {\n",
       "        vertical-align: top;\n",
       "    }\n",
       "\n",
       "    .dataframe thead th {\n",
       "        text-align: right;\n",
       "    }\n",
       "</style>\n",
       "<table border=\"1\" class=\"dataframe\">\n",
       "  <thead>\n",
       "    <tr style=\"text-align: right;\">\n",
       "      <th></th>\n",
       "      <th>Data</th>\n",
       "      <th>Identificador</th>\n",
       "      <th>Valor</th>\n",
       "    </tr>\n",
       "  </thead>\n",
       "  <tbody>\n",
       "    <tr>\n",
       "      <th>0</th>\n",
       "      <td>31/01/2016</td>\n",
       "      <td>1</td>\n",
       "      <td>90489</td>\n",
       "    </tr>\n",
       "    <tr>\n",
       "      <th>1</th>\n",
       "      <td>29/02/2016</td>\n",
       "      <td>2</td>\n",
       "      <td>90193</td>\n",
       "    </tr>\n",
       "    <tr>\n",
       "      <th>2</th>\n",
       "      <td>31/03/2016</td>\n",
       "      <td>3</td>\n",
       "      <td>89725</td>\n",
       "    </tr>\n",
       "    <tr>\n",
       "      <th>3</th>\n",
       "      <td>30/04/2016</td>\n",
       "      <td>4</td>\n",
       "      <td>89673</td>\n",
       "    </tr>\n",
       "    <tr>\n",
       "      <th>4</th>\n",
       "      <td>31/05/2016</td>\n",
       "      <td>5</td>\n",
       "      <td>89609</td>\n",
       "    </tr>\n",
       "    <tr>\n",
       "      <th>5</th>\n",
       "      <td>30/06/2016</td>\n",
       "      <td>6</td>\n",
       "      <td>89482</td>\n",
       "    </tr>\n",
       "    <tr>\n",
       "      <th>6</th>\n",
       "      <td>31/07/2016</td>\n",
       "      <td>7</td>\n",
       "      <td>89561</td>\n",
       "    </tr>\n",
       "    <tr>\n",
       "      <th>7</th>\n",
       "      <td>31/08/2016</td>\n",
       "      <td>8</td>\n",
       "      <td>89820</td>\n",
       "    </tr>\n",
       "    <tr>\n",
       "      <th>8</th>\n",
       "      <td>30/09/2016</td>\n",
       "      <td>9</td>\n",
       "      <td>89190</td>\n",
       "    </tr>\n",
       "    <tr>\n",
       "      <th>9</th>\n",
       "      <td>31/10/2016</td>\n",
       "      <td>10</td>\n",
       "      <td>89210</td>\n",
       "    </tr>\n",
       "  </tbody>\n",
       "</table>\n",
       "</div>"
      ],
      "text/plain": [
       "         Data  Identificador  Valor\n",
       "0  31/01/2016              1  90489\n",
       "1  29/02/2016              2  90193\n",
       "2  31/03/2016              3  89725\n",
       "3  30/04/2016              4  89673\n",
       "4  31/05/2016              5  89609\n",
       "5  30/06/2016              6  89482\n",
       "6  31/07/2016              7  89561\n",
       "7  31/08/2016              8  89820\n",
       "8  30/09/2016              9  89190\n",
       "9  31/10/2016             10  89210"
      ]
     },
     "execution_count": 31,
     "metadata": {},
     "output_type": "execute_result"
    }
   ],
   "source": [
    "dataset.head(10)"
   ]
  },
  {
   "cell_type": "code",
   "execution_count": 32,
   "metadata": {},
   "outputs": [],
   "source": [
    "media = dataset['Valor'].mean()"
   ]
  },
  {
   "cell_type": "code",
   "execution_count": 33,
   "metadata": {},
   "outputs": [
    {
     "data": {
      "text/plain": [
       "85943.36111111111"
      ]
     },
     "execution_count": 33,
     "metadata": {},
     "output_type": "execute_result"
    }
   ],
   "source": [
    "media"
   ]
  },
  {
   "cell_type": "code",
   "execution_count": 38,
   "metadata": {},
   "outputs": [
    {
     "name": "stdout",
     "output_type": "stream",
     "text": [
      "Soma dos Quadrados do Erros (SSE): 348975526\n"
     ]
    }
   ],
   "source": [
    "# Calculando o SSE\n",
    "squared_erros = pd.Series(media - dataset['Valor'])**2\n",
    "SSE = np.sum(squared_erros)\n",
    "print ('Soma dos Quadrados do Erros (SSE): %01.f' % SSE)"
   ]
  },
  {
   "cell_type": "code",
   "execution_count": 39,
   "metadata": {},
   "outputs": [
    {
     "data": {
      "image/png": "[encoded data removed]",
      "text/plain": [
       "<Figure size 432x288 with 1 Axes>"
      ]
     },
     "metadata": {
      "needs_background": "light"
     },
     "output_type": "display_data"
    }
   ],
   "source": [
    "# Histograma dos erros\n",
    "hist_plot = squared_erros.plot('hist')"
   ]
  },
  {
   "cell_type": "code",
   "execution_count": 40,
   "metadata": {},
   "outputs": [],
   "source": [
    "# Função para calcular o desvio padrão\n",
    "def calc_desvio_padrao(variable, bias =0):\n",
    "    observations = float(len(variable))\n",
    "    return np.sqrt(np.sum((variable - np.mean(variable))**2) / (obsservations - min(bias,1)))"
   ]
  },
  {
   "cell_type": "code",
   "execution_count": 42,
   "metadata": {},
   "outputs": [],
   "source": [
    "# Definindo o range dos valores de x e y\n",
    "x_range = [dataset['Identificador'].min(),dataset['Identificador'].max()]\n",
    "y_range = [dataset['Valor'].min(),dataset['Valor'].max()]"
   ]
  },
  {
   "cell_type": "code",
   "execution_count": 44,
   "metadata": {},
   "outputs": [
    {
     "data": {
      "image/png": "[encoded data removed]",
      "text/plain": [
       "<Figure size 432x288 with 1 Axes>"
      ]
     },
     "metadata": {
      "needs_background": "light"
     },
     "output_type": "display_data"
    }
   ],
   "source": [
    "#Plot dos valor de x e y com a media\n",
    "scatter_plot = dataset.plot(kind = 'scatter', x = 'Identificador', y = 'Valor', xlim= x_range, ylim=y_range )\n",
    "\n",
    "#Calculo da media\n",
    "meanY = scatter_plot.plot(x_range, [dataset['Valor'].mean(), dataset['Valor'].mean()], '--', color = 'red', linewidth =1)\n",
    "meanx = scatter_plot.plot([dataset['Identificador'].mean(), dataset['Identificador'].mean()], y_range, '--', color = 'red', linewidth =1)"
   ]
  },
  {
   "cell_type": "markdown",
   "metadata": {},
   "source": [
    "## Scikit-Learn"
   ]
  },
  {
   "cell_type": "code",
   "execution_count": 45,
   "metadata": {},
   "outputs": [],
   "source": [
    "from sklearn import linear_model"
   ]
  },
  {
   "cell_type": "code",
   "execution_count": 46,
   "metadata": {},
   "outputs": [],
   "source": [
    "modelo = linear_model.LinearRegression(normalize= False, fit_intercept = True)"
   ]
  },
  {
   "cell_type": "code",
   "execution_count": 70,
   "metadata": {},
   "outputs": [],
   "source": [
    "import numpy as np\n",
    "from sklearn.linear_model import LinearRegression"
   ]
  },
  {
   "cell_type": "code",
   "execution_count": 92,
   "metadata": {},
   "outputs": [],
   "source": [
    "#Define os valores de x e y\n",
    "num_observ = len(dataset)\n",
    "x = dataset['Identificador'].values.reshape((-1, 1))\n",
    "y = dataset['Valor'].values"
   ]
  },
  {
   "cell_type": "code",
   "execution_count": 93,
   "metadata": {},
   "outputs": [],
   "source": [
    "model = LinearRegression()"
   ]
  },
  {
   "cell_type": "code",
   "execution_count": 94,
   "metadata": {},
   "outputs": [
    {
     "data": {
      "text/plain": [
       "LinearRegression(copy_X=True, fit_intercept=True, n_jobs=None,\n",
       "         normalize=False)"
      ]
     },
     "execution_count": 94,
     "metadata": {},
     "output_type": "execute_result"
    }
   ],
   "source": [
    "# Aplica o modelo - fit()\n",
    "model.fit(x,y)"
   ]
  },
  {
   "cell_type": "code",
   "execution_count": 95,
   "metadata": {},
   "outputs": [],
   "source": [
    "model = LinearRegression().fit(x,y)"
   ]
  },
  {
   "cell_type": "code",
   "execution_count": 96,
   "metadata": {},
   "outputs": [
    {
     "name": "stdout",
     "output_type": "stream",
     "text": [
      "coefficient of determination: 0.9615427526327751\n"
     ]
    }
   ],
   "source": [
    "r_sq = model.score(x, y)\n",
    "print('coefficient of determination:', r_sq)"
   ]
  },
  {
   "cell_type": "code",
   "execution_count": 97,
   "metadata": {},
   "outputs": [
    {
     "name": "stdout",
     "output_type": "stream",
     "text": [
      "interseção: 91380.34444444445\n",
      "tempo(declive): [-293.89099099]\n"
     ]
    }
   ],
   "source": [
    "# Imprime os coeficentes\n",
    "print ('interseção:', model.intercept_)\n",
    "print ('tempo(declive):', model.coef_)"
   ]
  },
  {
   "cell_type": "code",
   "execution_count": 98,
   "metadata": {},
   "outputs": [],
   "source": [
    "y_pred = model.predict(x)"
   ]
  },
  {
   "cell_type": "code",
   "execution_count": 99,
   "metadata": {},
   "outputs": [
    {
     "name": "stdout",
     "output_type": "stream",
     "text": [
      "predicted response:\n",
      "[91086.45345345 90792.56246246 90498.67147147 90204.78048048\n",
      " 89910.88948949 89616.9984985  89323.10750751 89029.21651652\n",
      " 88735.32552553 88441.43453453 88147.54354354 87853.65255255\n",
      " 87559.76156156 87265.87057057 86971.97957958 86678.08858859\n",
      " 86384.1975976  86090.30660661 85796.41561562 85502.52462462\n",
      " 85208.63363363 84914.74264264 84620.85165165 84326.96066066\n",
      " 84033.06966967 83739.17867868 83445.28768769 83151.3966967\n",
      " 82857.50570571 82563.61471471 82269.72372372 81975.83273273\n",
      " 81681.94174174 81388.05075075 81094.15975976 80800.26876877]\n"
     ]
    }
   ],
   "source": [
    "print('predicted response:', y_pred, sep='\\n')"
   ]
  },
  {
   "cell_type": "code",
   "execution_count": 89,
   "metadata": {},
   "outputs": [],
   "source": [
    "y_pred = model.intercept_ + model.coef_ * x"
   ]
  },
  {
   "cell_type": "code",
   "execution_count": 90,
   "metadata": {},
   "outputs": [
    {
     "name": "stdout",
     "output_type": "stream",
     "text": [
      "predicted response:\n",
      "[[91086.45345345]\n",
      " [90792.56246246]\n",
      " [90498.67147147]\n",
      " [90204.78048048]\n",
      " [89910.88948949]\n",
      " [89616.9984985 ]\n",
      " [89323.10750751]\n",
      " [89029.21651652]\n",
      " [88735.32552553]\n",
      " [88441.43453453]\n",
      " [88147.54354354]\n",
      " [87853.65255255]\n",
      " [87559.76156156]\n",
      " [87265.87057057]\n",
      " [86971.97957958]\n",
      " [86678.08858859]\n",
      " [86384.1975976 ]\n",
      " [86090.30660661]\n",
      " [85796.41561562]\n",
      " [85502.52462462]\n",
      " [85208.63363363]\n",
      " [84914.74264264]\n",
      " [84620.85165165]\n",
      " [84326.96066066]\n",
      " [84033.06966967]\n",
      " [83739.17867868]\n",
      " [83445.28768769]\n",
      " [83151.3966967 ]\n",
      " [82857.50570571]\n",
      " [82563.61471471]\n",
      " [82269.72372372]\n",
      " [81975.83273273]\n",
      " [81681.94174174]\n",
      " [81388.05075075]\n",
      " [81094.15975976]\n",
      " [80800.26876877]]\n"
     ]
    }
   ],
   "source": [
    "print('predicted response:', y_pred, sep='\\n')"
   ]
  },
  {
   "cell_type": "code",
   "execution_count": 100,
   "metadata": {},
   "outputs": [],
   "source": [
    "x_new = np.arange(40).reshape((-1, 1))"
   ]
  },
  {
   "cell_type": "code",
   "execution_count": 102,
   "metadata": {},
   "outputs": [],
   "source": [
    "y_new = model.predict(x_new)"
   ]
  },
  {
   "cell_type": "code",
   "execution_count": 103,
   "metadata": {},
   "outputs": [
    {
     "name": "stdout",
     "output_type": "stream",
     "text": [
      "[91380.34444444 91086.45345345 90792.56246246 90498.67147147\n",
      " 90204.78048048 89910.88948949 89616.9984985  89323.10750751\n",
      " 89029.21651652 88735.32552553 88441.43453453 88147.54354354\n",
      " 87853.65255255 87559.76156156 87265.87057057 86971.97957958\n",
      " 86678.08858859 86384.1975976  86090.30660661 85796.41561562\n",
      " 85502.52462462 85208.63363363 84914.74264264 84620.85165165\n",
      " 84326.96066066 84033.06966967 83739.17867868 83445.28768769\n",
      " 83151.3966967  82857.50570571 82563.61471471 82269.72372372\n",
      " 81975.83273273 81681.94174174 81388.05075075 81094.15975976\n",
      " 80800.26876877 80506.37777778 80212.48678679 79918.5957958 ]\n"
     ]
    }
   ],
   "source": [
    "print(y_new)"
   ]
  },
  {
   "cell_type": "code",
   "execution_count": null,
   "metadata": {},
   "outputs": [],
   "source": []
  }
 ],
 "metadata": {
  "kernelspec": {
   "display_name": "Python 3",
   "language": "python",
   "name": "python3"
  },
  "language_info": {
   "codemirror_mode": {
    "name": "ipython",
    "version": 3
   },
   "file_extension": ".py",
   "mimetype": "text/x-python",
   "name": "python",
   "nbconvert_exporter": "python",
   "pygments_lexer": "ipython3",
   "version": "3.7.3"
  }
 },
 "nbformat": 4,
 "nbformat_minor": 2
}
