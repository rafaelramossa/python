{
 "cells": [
  {
   "cell_type": "code",
   "execution_count": 1,
   "metadata": {},
   "outputs": [],
   "source": [
    "matriz = [\n",
    "    [1,2,3,4,5,78],\n",
    "    [1,2,3,4,5,78],\n",
    "    [1,2,3,4,5,78],\n",
    "    [1,2,3,4,5,78],\n",
    "    [1,2,3,4,5,78],\n",
    "]"
   ]
  },
  {
   "cell_type": "code",
   "execution_count": 2,
   "metadata": {},
   "outputs": [
    {
     "data": {
      "text/plain": [
       "list"
      ]
     },
     "execution_count": 2,
     "metadata": {},
     "output_type": "execute_result"
    }
   ],
   "source": [
    "type(matriz)"
   ]
  },
  {
   "cell_type": "code",
   "execution_count": 3,
   "metadata": {},
   "outputs": [
    {
     "name": "stdout",
     "output_type": "stream",
     "text": [
      "[[1, 2, 3, 4, 5, 78], [1, 2, 3, 4, 5, 78], [1, 2, 3, 4, 5, 78], [1, 2, 3, 4, 5, 78], [1, 2, 3, 4, 5, 78]]\n"
     ]
    }
   ],
   "source": [
    "print(matriz)"
   ]
  },
  {
   "cell_type": "code",
   "execution_count": 5,
   "metadata": {},
   "outputs": [
    {
     "data": {
      "text/plain": [
       "[(0, [1, 2, 3, 4, 5, 78]),\n",
       " (1, [1, 2, 3, 4, 5, 78]),\n",
       " (2, [1, 2, 3, 4, 5, 78]),\n",
       " (3, [1, 2, 3, 4, 5, 78]),\n",
       " (4, [1, 2, 3, 4, 5, 78])]"
      ]
     },
     "execution_count": 5,
     "metadata": {},
     "output_type": "execute_result"
    }
   ],
   "source": [
    "list(enumerate(matriz))"
   ]
  },
  {
   "cell_type": "code",
   "execution_count": 9,
   "metadata": {},
   "outputs": [
    {
     "name": "stdout",
     "output_type": "stream",
     "text": [
      "0 [1, 2, 3, 4, 5, 78]\n",
      "1 [1, 2, 3, 4, 5, 78]\n",
      "2 [1, 2, 3, 4, 5, 78]\n",
      "3 [1, 2, 3, 4, 5, 78]\n",
      "4 [1, 2, 3, 4, 5, 78]\n"
     ]
    }
   ],
   "source": [
    "for indice, valor in enumerate(matriz):\n",
    "    print (indice, valor)"
   ]
  },
  {
   "cell_type": "code",
   "execution_count": 10,
   "metadata": {},
   "outputs": [],
   "source": [
    "import numpy as np"
   ]
  },
  {
   "cell_type": "code",
   "execution_count": 17,
   "metadata": {},
   "outputs": [],
   "source": [
    "matriz1 = np.array(matriz)"
   ]
  },
  {
   "cell_type": "code",
   "execution_count": 18,
   "metadata": {},
   "outputs": [
    {
     "name": "stdout",
     "output_type": "stream",
     "text": [
      "[[ 1  2  3  4  5 78]\n",
      " [ 1  2  3  4  5 78]\n",
      " [ 1  2  3  4  5 78]\n",
      " [ 1  2  3  4  5 78]\n",
      " [ 1  2  3  4  5 78]]\n"
     ]
    }
   ],
   "source": [
    "print(matriz1)"
   ]
  },
  {
   "cell_type": "code",
   "execution_count": 19,
   "metadata": {},
   "outputs": [
    {
     "name": "stdout",
     "output_type": "stream",
     "text": [
      "(5, 6)\n"
     ]
    }
   ],
   "source": [
    "print(matriz1.shape)"
   ]
  },
  {
   "cell_type": "code",
   "execution_count": 20,
   "metadata": {},
   "outputs": [
    {
     "data": {
      "text/plain": [
       "30"
      ]
     },
     "execution_count": 20,
     "metadata": {},
     "output_type": "execute_result"
    }
   ],
   "source": [
    "matriz1.size"
   ]
  },
  {
   "cell_type": "code",
   "execution_count": 21,
   "metadata": {},
   "outputs": [
    {
     "name": "stdout",
     "output_type": "stream",
     "text": [
      "int64\n"
     ]
    }
   ],
   "source": [
    "print(matriz1.dtype)"
   ]
  },
  {
   "cell_type": "code",
   "execution_count": 23,
   "metadata": {},
   "outputs": [
    {
     "name": "stdout",
     "output_type": "stream",
     "text": [
      "78\n"
     ]
    }
   ],
   "source": [
    "print(matriz1[1,5])"
   ]
  },
  {
   "cell_type": "code",
   "execution_count": 33,
   "metadata": {},
   "outputs": [],
   "source": [
    "from pandas import Series \n",
    "import pandas as pd "
   ]
  },
  {
   "cell_type": "code",
   "execution_count": 38,
   "metadata": {},
   "outputs": [],
   "source": [
    "Obj2 = Series(matriz, index = ['a', 'b', 'c', 'd','e'])"
   ]
  },
  {
   "cell_type": "code",
   "execution_count": 40,
   "metadata": {},
   "outputs": [
    {
     "name": "stdout",
     "output_type": "stream",
     "text": [
      "a    [1, 2, 3, 4, 5, 78]\n",
      "b    [1, 2, 3, 4, 5, 78]\n",
      "c    [1, 2, 3, 4, 5, 78]\n",
      "d    [1, 2, 3, 4, 5, 78]\n",
      "e    [1, 2, 3, 4, 5, 78]\n",
      "dtype: object\n"
     ]
    }
   ],
   "source": [
    "print(Obj2)"
   ]
  },
  {
   "cell_type": "code",
   "execution_count": 41,
   "metadata": {},
   "outputs": [
    {
     "name": "stdout",
     "output_type": "stream",
     "text": [
      "Main Diagnol elements : \n",
      " [  1 434  56] \n",
      "\n",
      "Diagnol above main diagnol : \n",
      " [21  3] \n",
      "\n",
      "Diagnol below main diagnol : \n",
      " [63 54]\n"
     ]
    }
   ],
   "source": [
    "import numpy as geek \n",
    "  \n",
    "# matrix creation by array input \n",
    "a = geek.matrix([[1, 21, 30],  \n",
    "                 [63 ,434, 3],  \n",
    "                 [54, 54, 56]]) \n",
    "  \n",
    "print(\"Main Diagnol elements : \\n\", geek.diag(a), \"\\n\") \n",
    "  \n",
    "print(\"Diagnol above main diagnol : \\n\", geek.diag(a, 1), \"\\n\") \n",
    "  \n",
    "print(\"Diagnol below main diagnol : \\n\", geek.diag(a, -1)) \n"
   ]
  },
  {
   "cell_type": "code",
   "execution_count": 44,
   "metadata": {},
   "outputs": [
    {
     "name": "stdout",
     "output_type": "stream",
     "text": [
      "Main Diagnol elements : \n",
      " [1 2 3 4 5] \n",
      "\n",
      "Diagnol above main diagnol : \n",
      " [ 2  3  4  5 78] \n",
      "\n",
      "Diagnol below main diagnol : \n",
      " [1 2 3 4]\n"
     ]
    }
   ],
   "source": [
    "print(\"Main Diagnol elements : \\n\", geek.diag(matriz1), \"\\n\") \n",
    "\n",
    "print(\"Diagnol above main diagnol : \\n\", geek.diag(matriz, 1), \"\\n\") \n",
    "  \n",
    "print(\"Diagnol below main diagnol : \\n\", geek.diag(matriz, -1)) \n"
   ]
  },
  {
   "cell_type": "code",
   "execution_count": 62,
   "metadata": {},
   "outputs": [
    {
     "name": "stdout",
     "output_type": "stream",
     "text": [
      "sim\n",
      "sim\n",
      "sim\n",
      "sim\n",
      "sim\n",
      "sim\n",
      "sim\n",
      "sim\n",
      "sim\n",
      "sim\n",
      "sim\n",
      "sim\n",
      "sim\n",
      "sim\n",
      "sim\n",
      "sim\n",
      "sim\n",
      "sim\n",
      "sim\n",
      "sim\n",
      "sim\n",
      "sim\n",
      "sim\n",
      "sim\n",
      "sim\n"
     ]
    }
   ],
   "source": [
    "for i in matriz1:  \n",
    "    for x in matriz2:\n",
    "        if(i[1]==x[1]):\n",
    "            print('sim')"
   ]
  },
  {
   "cell_type": "code",
   "execution_count": 64,
   "metadata": {},
   "outputs": [
    {
     "name": "stdout",
     "output_type": "stream",
     "text": [
      "[ 1  2  3  4  5 78] [1, 2, 3, 4, 5, 78]\n",
      "[ 1  2  3  4  5 78] [1, 2, 3, 4, 5, 78]\n",
      "[ 1  2  3  4  5 78] [1, 2, 3, 4, 5, 78]\n",
      "[ 1  2  3  4  5 78] [1, 2, 3, 4, 5, 78]\n",
      "[ 1  2  3  4  5 78] [1, 2, 3, 4, 5, 50]\n",
      "[ 1  2  3  4  5 78] [1, 2, 3, 4, 5, 78]\n",
      "[ 1  2  3  4  5 78] [1, 2, 3, 4, 5, 78]\n",
      "[ 1  2  3  4  5 78] [1, 2, 3, 4, 5, 78]\n",
      "[ 1  2  3  4  5 78] [1, 2, 3, 4, 5, 78]\n",
      "[ 1  2  3  4  5 78] [1, 2, 3, 4, 5, 50]\n",
      "[ 1  2  3  4  5 78] [1, 2, 3, 4, 5, 78]\n",
      "[ 1  2  3  4  5 78] [1, 2, 3, 4, 5, 78]\n",
      "[ 1  2  3  4  5 78] [1, 2, 3, 4, 5, 78]\n",
      "[ 1  2  3  4  5 78] [1, 2, 3, 4, 5, 78]\n",
      "[ 1  2  3  4  5 78] [1, 2, 3, 4, 5, 50]\n",
      "[ 1  2  3  4  5 78] [1, 2, 3, 4, 5, 78]\n",
      "[ 1  2  3  4  5 78] [1, 2, 3, 4, 5, 78]\n",
      "[ 1  2  3  4  5 78] [1, 2, 3, 4, 5, 78]\n",
      "[ 1  2  3  4  5 78] [1, 2, 3, 4, 5, 78]\n",
      "[ 1  2  3  4  5 78] [1, 2, 3, 4, 5, 50]\n",
      "[ 1  2  3  4  5 78] [1, 2, 3, 4, 5, 78]\n",
      "[ 1  2  3  4  5 78] [1, 2, 3, 4, 5, 78]\n",
      "[ 1  2  3  4  5 78] [1, 2, 3, 4, 5, 78]\n",
      "[ 1  2  3  4  5 78] [1, 2, 3, 4, 5, 78]\n",
      "[ 1  2  3  4  5 78] [1, 2, 3, 4, 5, 50]\n"
     ]
    }
   ],
   "source": [
    "for i in matriz1:  \n",
    "    for x in matriz2:\n",
    "        print(i,x)"
   ]
  },
  {
   "cell_type": "code",
   "execution_count": 72,
   "metadata": {},
   "outputs": [
    {
     "name": "stdout",
     "output_type": "stream",
     "text": [
      "SIM\n"
     ]
    }
   ],
   "source": [
    "if matriz == matriz:\n",
    "    print('SIM')"
   ]
  },
  {
   "cell_type": "code",
   "execution_count": 74,
   "metadata": {},
   "outputs": [
    {
     "data": {
      "text/plain": [
       "numpy.ndarray"
      ]
     },
     "execution_count": 74,
     "metadata": {},
     "output_type": "execute_result"
    }
   ],
   "source": [
    "type(matriz1)"
   ]
  },
  {
   "cell_type": "code",
   "execution_count": 78,
   "metadata": {},
   "outputs": [
    {
     "ename": "TypeError",
     "evalue": "data type not understood",
     "output_type": "error",
     "traceback": [
      "\u001b[0;31m---------------------------------------------------------------------------\u001b[0m",
      "\u001b[0;31mTypeError\u001b[0m                                 Traceback (most recent call last)",
      "\u001b[0;32m<ipython-input-78-0ba404b81b28>\u001b[0m in \u001b[0;36m<module>\u001b[0;34m\u001b[0m\n\u001b[0;32m----> 1\u001b[0;31m \u001b[0mx\u001b[0m \u001b[0;34m=\u001b[0m \u001b[0mnp\u001b[0m\u001b[0;34m.\u001b[0m\u001b[0mmatrix\u001b[0m\u001b[0;34m(\u001b[0m\u001b[0;34m[\u001b[0m\u001b[0;36m1\u001b[0m\u001b[0;34m,\u001b[0m\u001b[0;36m2\u001b[0m\u001b[0;34m]\u001b[0m\u001b[0;34m,\u001b[0m \u001b[0;34m[\u001b[0m\u001b[0;36m3\u001b[0m\u001b[0;34m,\u001b[0m\u001b[0;36m4\u001b[0m\u001b[0;34m]\u001b[0m\u001b[0;34m)\u001b[0m\u001b[0;34m\u001b[0m\u001b[0;34m\u001b[0m\u001b[0m\n\u001b[0m\u001b[1;32m      2\u001b[0m \u001b[0my\u001b[0m \u001b[0;34m=\u001b[0m \u001b[0mnp\u001b[0m\u001b[0;34m.\u001b[0m\u001b[0mmatrix\u001b[0m\u001b[0;34m(\u001b[0m\u001b[0;34m[\u001b[0m\u001b[0;36m10\u001b[0m\u001b[0;34m,\u001b[0m\u001b[0;36m20\u001b[0m\u001b[0;34m]\u001b[0m\u001b[0;34m,\u001b[0m \u001b[0;34m[\u001b[0m\u001b[0;36m30\u001b[0m\u001b[0;34m,\u001b[0m\u001b[0;36m40\u001b[0m\u001b[0;34m]\u001b[0m\u001b[0;34m)\u001b[0m\u001b[0;34m\u001b[0m\u001b[0;34m\u001b[0m\u001b[0m\n\u001b[1;32m      3\u001b[0m \u001b[0;34m\u001b[0m\u001b[0m\n\u001b[1;32m      4\u001b[0m \u001b[0mx\u001b[0m \u001b[0;34m==\u001b[0m \u001b[0my\u001b[0m\u001b[0;34m\u001b[0m\u001b[0;34m\u001b[0m\u001b[0m\n",
      "\u001b[0;32m~/anaconda3/lib/python3.7/site-packages/numpy/matrixlib/defmatrix.py\u001b[0m in \u001b[0;36m__new__\u001b[0;34m(subtype, data, dtype, copy)\u001b[0m\n\u001b[1;32m    145\u001b[0m \u001b[0;34m\u001b[0m\u001b[0m\n\u001b[1;32m    146\u001b[0m         \u001b[0;31m# now convert data to an array\u001b[0m\u001b[0;34m\u001b[0m\u001b[0;34m\u001b[0m\u001b[0;34m\u001b[0m\u001b[0m\n\u001b[0;32m--> 147\u001b[0;31m         \u001b[0marr\u001b[0m \u001b[0;34m=\u001b[0m \u001b[0mN\u001b[0m\u001b[0;34m.\u001b[0m\u001b[0marray\u001b[0m\u001b[0;34m(\u001b[0m\u001b[0mdata\u001b[0m\u001b[0;34m,\u001b[0m \u001b[0mdtype\u001b[0m\u001b[0;34m=\u001b[0m\u001b[0mdtype\u001b[0m\u001b[0;34m,\u001b[0m \u001b[0mcopy\u001b[0m\u001b[0;34m=\u001b[0m\u001b[0mcopy\u001b[0m\u001b[0;34m)\u001b[0m\u001b[0;34m\u001b[0m\u001b[0;34m\u001b[0m\u001b[0m\n\u001b[0m\u001b[1;32m    148\u001b[0m         \u001b[0mndim\u001b[0m \u001b[0;34m=\u001b[0m \u001b[0marr\u001b[0m\u001b[0;34m.\u001b[0m\u001b[0mndim\u001b[0m\u001b[0;34m\u001b[0m\u001b[0;34m\u001b[0m\u001b[0m\n\u001b[1;32m    149\u001b[0m         \u001b[0mshape\u001b[0m \u001b[0;34m=\u001b[0m \u001b[0marr\u001b[0m\u001b[0;34m.\u001b[0m\u001b[0mshape\u001b[0m\u001b[0;34m\u001b[0m\u001b[0;34m\u001b[0m\u001b[0m\n",
      "\u001b[0;31mTypeError\u001b[0m: data type not understood"
     ]
    }
   ],
   "source": [
    "x = np.matrix([1,2], [3,4])\n",
    "y = np.matrix([10,20], [30,40])\n",
    "\n",
    "x == y"
   ]
  },
  {
   "cell_type": "code",
   "execution_count": 79,
   "metadata": {},
   "outputs": [],
   "source": [
    "m1 = np.matrix(matriz)"
   ]
  },
  {
   "cell_type": "code",
   "execution_count": 84,
   "metadata": {},
   "outputs": [],
   "source": [
    "m2 = np.matrix(matriz2)"
   ]
  },
  {
   "cell_type": "code",
   "execution_count": 85,
   "metadata": {},
   "outputs": [
    {
     "data": {
      "text/plain": [
       "matrix([[ True,  True,  True,  True,  True,  True],\n",
       "        [ True,  True,  True,  True,  True,  True],\n",
       "        [ True,  True,  True,  True,  True,  True],\n",
       "        [ True,  True,  True,  True,  True,  True],\n",
       "        [ True,  True,  True,  True,  True, False]])"
      ]
     },
     "execution_count": 85,
     "metadata": {},
     "output_type": "execute_result"
    }
   ],
   "source": [
    "m1 ==m2"
   ]
  },
  {
   "cell_type": "code",
   "execution_count": 95,
   "metadata": {},
   "outputs": [
    {
     "name": "stdout",
     "output_type": "stream",
     "text": [
      "sim\n"
     ]
    }
   ],
   "source": [
    "if (m1== m1).all():\n",
    "    print('sim')"
   ]
  },
  {
   "cell_type": "code",
   "execution_count": 97,
   "metadata": {},
   "outputs": [
    {
     "data": {
      "text/plain": [
       "False"
      ]
     },
     "execution_count": 97,
     "metadata": {},
     "output_type": "execute_result"
    }
   ],
   "source": [
    "np.array_equal(m1,m2)\n",
    "np.array_equiv(m1,m2)"
   ]
  },
  {
   "cell_type": "code",
   "execution_count": null,
   "metadata": {},
   "outputs": [],
   "source": []
  }
 ],
 "metadata": {
  "kernelspec": {
   "display_name": "Python 3",
   "language": "python",
   "name": "python3"
  },
  "language_info": {
   "codemirror_mode": {
    "name": "ipython",
    "version": 3
   },
   "file_extension": ".py",
   "mimetype": "text/x-python",
   "name": "python",
   "nbconvert_exporter": "python",
   "pygments_lexer": "ipython3",
   "version": "3.7.3"
  }
 },
 "nbformat": 4,
 "nbformat_minor": 2
}
